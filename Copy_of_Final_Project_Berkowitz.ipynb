{
  "nbformat": 4,
  "nbformat_minor": 0,
  "metadata": {
    "colab": {
      "name": "Copy of Final_Project_Berkowitz.ipynb",
      "provenance": [],
      "toc_visible": true,
      "include_colab_link": true
    },
    "kernelspec": {
      "name": "python3",
      "display_name": "Python 3"
    },
    "language_info": {
      "name": "python"
    }
  },
  "cells": [
    {
      "cell_type": "markdown",
      "metadata": {
        "id": "view-in-github",
        "colab_type": "text"
      },
      "source": [
        "<a href=\"https://colab.research.google.com/github/mberko128/World-Happiness.github.io/blob/main/Copy_of_Final_Project_Berkowitz.ipynb\" target=\"_parent\"><img src=\"https://colab.research.google.com/assets/colab-badge.svg\" alt=\"Open In Colab\"/></a>"
      ]
    },
    {
      "cell_type": "code",
      "execution_count": null,
      "metadata": {
        "id": "E7kIiFFzcOIz"
      },
      "outputs": [],
      "source": [
        ""
      ]
    },
    {
      "cell_type": "markdown",
      "source": [
        "# Analysis of the factors that contribute to World Happiness"
      ],
      "metadata": {
        "id": "8Ne8iN_kceVm"
      }
    },
    {
      "cell_type": "code",
      "source": [
        "#clone the github repository\n",
        "Use_Google_Drive= False #@param {type:\"boolean\"}\n",
        "\n",
        "if Use_Google_Drive:\n",
        "    import os\n",
        "    from google.colab import drive \n",
        "\n",
        "    drive.mount('/content/gdrive',force_remount=True)\n",
        "\n",
        "    Working_Directory = 'My Drive' #@param {type:\"string\"}\n",
        "    wd=\"/content/gdrive/\"+Working_Directory\n",
        "    os.chdir(wd)\n",
        "\n",
        "    !git clone https://github.com/mberko128/World-Happiness.github.io\n",
        "    \n",
        "    %cd pard187.github.io/\n",
        "    dirpath = os.getcwd()\n",
        "    print(\"current directory is : \" + dirpath)\n",
        "\n",
        "    \n",
        "else:\n",
        "    !git clone https://github.com/mberko128/World-Happiness.github.io\n",
        "    %cd pard187.github.io/"
      ],
      "metadata": {
        "colab": {
          "base_uri": "https://localhost:8080/"
        },
        "id": "66VsaN5BkXqF",
        "outputId": "9aa8c2bf-9ca0-4c27-bf10-99c98b5ece78"
      },
      "execution_count": null,
      "outputs": [
        {
          "output_type": "stream",
          "name": "stdout",
          "text": [
            "Cloning into 'World-Happiness.github.io'...\n",
            "remote: Enumerating objects: 6, done.\u001b[K\n",
            "remote: Counting objects: 100% (6/6), done.\u001b[K\n",
            "remote: Compressing objects: 100% (4/4), done.\u001b[K\n",
            "remote: Total 6 (delta 0), reused 0 (delta 0), pack-reused 0\u001b[K\n",
            "Unpacking objects: 100% (6/6), done.\n",
            "[Errno 2] No such file or directory: 'pard187.github.io/'\n",
            "/content\n"
          ]
        }
      ]
    },
    {
      "cell_type": "code",
      "source": [
        "#import libraries\n",
        "import numpy as mp\n",
        "import pandas as pd\n",
        "import seaborn as sns\n",
        "from matplotlib import pyplot as plt\n",
        "from datetime import datetime\n",
        "from sklearn.model_selection import train_test_split\n",
        "from sklearn.linear_model import LinearRegression\n",
        "from sklearn.utils import resample\n",
        "from sklearn.linear_model import LogisticRegression\n",
        "from sklearn.metrics import plot_confusion_matrix\n",
        "from sklearn.metrics import classification_report\n",
        "from sklearn import metrics\n",
        "from sklearn.metrics import accuracy_score\n",
        "from collections import Counter\n",
        "from sklearn.datasets import make_classification\n",
        "from imblearn.under_sampling import RandomUnderSampler\n",
        "from imblearn.over_sampling import SMOTE\n",
        "from sklearn.feature_selection import SelectKBest\n",
        "from sklearn.feature_selection import f_classif \n",
        "from sklearn.preprocessing import StandardScaler"
      ],
      "metadata": {
        "id": "9pCp07y4kbpf"
      },
      "execution_count": null,
      "outputs": []
    },
    {
      "cell_type": "markdown",
      "source": [
        "# Part I. Buisness Understanding"
      ],
      "metadata": {
        "id": "478B1Jk_cyn1"
      }
    },
    {
      "cell_type": "markdown",
      "source": [
        "The COVID-19 pandemic has brought to light just how important happiness and mental health is in our lives. During times of lockdown, many individuals found themselves struggling with mental health issues and craving the things and activities that bring us most joy. In other words, the pandemic highlighted just how important being happy is for our mental health and forced us to reflect on the specific elements of our lives that bring us happiness.\n",
        "\n",
        "Everyone wants to live the happiest life they can. For some, social support may be the most important aspect of being happy. For others, happiness may stem from economic success, helping others, or having the freedom and opportunity to do what they wish. Through the data science process, our group will try and decipher what elements foster happiness on a global scale. In other words, we will try to answer the following question: **What are the most influential factors in one’s life to being happy?**\n",
        "\n",
        "Our analysis has the potential to provide valuable and actionable insights for policymakers and law-makers, whose ultimate goal is to create and implement policies that will best benefit society. In the unprecedented times we have been living in with the pandemic, being happy and having good mental health has never been so important. Our analysis can hopefully shed some light as to whether social networks, financial success, or some other factor may impact happiness the most, which policymakers can use to inspire practices that are most likely to foster happiness among society at large.\n"
      ],
      "metadata": {
        "id": "cbL5iOwQc-mC"
      }
    },
    {
      "cell_type": "markdown",
      "source": [
        "# Part II. Data Understanding"
      ],
      "metadata": {
        "id": "OFX-V0hldPdC"
      }
    },
    {
      "cell_type": "markdown",
      "source": [
        "In order to gain insight into what factors most influence one’s happiness, we will use a dataset provided by the United Nations entitled World Happiness. The UN reports world happiness data on a yearly basis. This is the most recent dataset on the subject. \n",
        "\n",
        "##World Happiness Dataset\n",
        "\n",
        "The UN uses data collected from the Gallup World Poll, which surveys individuals on main life evaluation questions. The Gallup World Poll  is conducted yearly in at least 153 countries with a random sample of at least 1000 respondents in each country. Participants of the survey were asked how a number of different factors, such as social support and freedom to make life choices, impacted the overall happiness in their lives from 0 to 10, with 10 being the best possible life and 0 being the worst. They are also asked to rate their overall happiness level in their lives, on this same 0 to 10 scale. Other varriables in the dataset were binary survey questions, so respondents answered with either a 0 or 1. The values for these variables are averaged for each country and year. The data collected is based entirely on the survey scores, using the Gallup weights to make the estimates representative. \n",
        "\n",
        "There are a total of 11 columns in our dataset: Country name, year, life ladder, Log GDP per capita, social support, healthy life expectancy at birth, freedom to make life choices, generosity, perceptions of corruption, positive affect, and negative affect. The dataset includes data from 153 countries from the years 2006 to 2020. Note that not every country has data from each year from this time frame. The column titles and description are listed below.\n",
        "\n",
        "\n",
        "Attribute | Data Type | Description |\n",
        "--- | --- | --- \n",
        "Country Name | Nominal | Name of the country\n",
        "Year | Interval | Describes the year in which data represents\n",
        "Life Ladder | Ratio | Describes respondents overall life happiness on a scale of 0-10\n",
        "Log GDP Per Capita | Ratio | Describes the natural log of country's GDP\n",
        "Social Support | Ratio | Describes the national average of the binary responses (either 0 or 1) to the question <br> “If you were in trouble, do you have relatives or friends you can count on to help you whenever you need them, or not?”\n",
        "Healthy Life Expextancy at Birth | Ratio | The time series of healthy life expectancy at birth constructed based on data from the World Health Organization (WHO) <br> Global Health Observatory data repository, with data available for 2005, 2010, 2015, and 2016. \n",
        "Freedom to Make Life Choices | Ratio | National average of binary responses to the GWP question “Are you satisfied or dissatisfied with your freedom to choose <br> what you do with your life?”\n",
        "Generosity | Ratio | Describes the residual of regressing the national average of GWP responses to the question “Have you donated money to a <br> charity in the past month?” on GDP per capita.\n",
        "Perceptions of Corruption | Ratio | Describes the average of binary answers to two GWP questions: “Is corruption widespread throughout the government or not?” <br> and “Is corruption widespread within businesses or not?” Where data for government corruption are missing, the perception of <br> business corruption is used as the overall corruption-perception measure.\n",
        "Positive affect | Ratio | Desrcibes the average of previous-day affect measures for happiness, laughter, and enjoyment for years 2008 to 2012, and some in 2013\n",
        "Negative affect | Ratio | Decribes the average of previous-day affect measures for worry, sadness, and anger for all years.\n",
        "\n"
      ],
      "metadata": {
        "id": "dQiWnUVidaJY"
      }
    },
    {
      "cell_type": "markdown",
      "source": [
        "# Part III. Data Preparation"
      ],
      "metadata": {
        "id": "qDkELOmei_uF"
      }
    },
    {
      "cell_type": "markdown",
      "source": [
        "## Access the Dataset\n",
        "\n",
        "The first step in preparing our data is loading in our dataset."
      ],
      "metadata": {
        "id": "i4i23bPYjfM_"
      }
    },
    {
      "cell_type": "code",
      "source": [
        "#read dataset as csv from github repository\n",
        "url = \"https://github.com/mberko128/World-Happiness.github.io/raw/main/world-happiness-report.csv\"\n",
        "happiness_data = pd.read_csv(url)\n",
        "happiness_data.head()"
      ],
      "metadata": {
        "colab": {
          "base_uri": "https://localhost:8080/",
          "height": 302
        },
        "id": "rq3hATxYhJBo",
        "outputId": "5a43bf2d-dee1-4252-af90-a4d0585f44e1"
      },
      "execution_count": null,
      "outputs": [
        {
          "output_type": "execute_result",
          "data": {
            "text/html": [
              "\n",
              "  <div id=\"df-190f875e-4022-4acc-8cc4-b6da5a8bad00\">\n",
              "    <div class=\"colab-df-container\">\n",
              "      <div>\n",
              "<style scoped>\n",
              "    .dataframe tbody tr th:only-of-type {\n",
              "        vertical-align: middle;\n",
              "    }\n",
              "\n",
              "    .dataframe tbody tr th {\n",
              "        vertical-align: top;\n",
              "    }\n",
              "\n",
              "    .dataframe thead th {\n",
              "        text-align: right;\n",
              "    }\n",
              "</style>\n",
              "<table border=\"1\" class=\"dataframe\">\n",
              "  <thead>\n",
              "    <tr style=\"text-align: right;\">\n",
              "      <th></th>\n",
              "      <th>Country name</th>\n",
              "      <th>year</th>\n",
              "      <th>Life Ladder</th>\n",
              "      <th>Log GDP per capita</th>\n",
              "      <th>Social support</th>\n",
              "      <th>Healthy life expectancy at birth</th>\n",
              "      <th>Freedom to make life choices</th>\n",
              "      <th>Generosity</th>\n",
              "      <th>Perceptions of corruption</th>\n",
              "      <th>Positive affect</th>\n",
              "      <th>Negative affect</th>\n",
              "    </tr>\n",
              "  </thead>\n",
              "  <tbody>\n",
              "    <tr>\n",
              "      <th>0</th>\n",
              "      <td>Afghanistan</td>\n",
              "      <td>2008</td>\n",
              "      <td>3.724</td>\n",
              "      <td>7.370</td>\n",
              "      <td>0.451</td>\n",
              "      <td>50.80</td>\n",
              "      <td>0.718</td>\n",
              "      <td>0.168</td>\n",
              "      <td>0.882</td>\n",
              "      <td>0.518</td>\n",
              "      <td>0.258</td>\n",
              "    </tr>\n",
              "    <tr>\n",
              "      <th>1</th>\n",
              "      <td>Afghanistan</td>\n",
              "      <td>2009</td>\n",
              "      <td>4.402</td>\n",
              "      <td>7.540</td>\n",
              "      <td>0.552</td>\n",
              "      <td>51.20</td>\n",
              "      <td>0.679</td>\n",
              "      <td>0.190</td>\n",
              "      <td>0.850</td>\n",
              "      <td>0.584</td>\n",
              "      <td>0.237</td>\n",
              "    </tr>\n",
              "    <tr>\n",
              "      <th>2</th>\n",
              "      <td>Afghanistan</td>\n",
              "      <td>2010</td>\n",
              "      <td>4.758</td>\n",
              "      <td>7.647</td>\n",
              "      <td>0.539</td>\n",
              "      <td>51.60</td>\n",
              "      <td>0.600</td>\n",
              "      <td>0.121</td>\n",
              "      <td>0.707</td>\n",
              "      <td>0.618</td>\n",
              "      <td>0.275</td>\n",
              "    </tr>\n",
              "    <tr>\n",
              "      <th>3</th>\n",
              "      <td>Afghanistan</td>\n",
              "      <td>2011</td>\n",
              "      <td>3.832</td>\n",
              "      <td>7.620</td>\n",
              "      <td>0.521</td>\n",
              "      <td>51.92</td>\n",
              "      <td>0.496</td>\n",
              "      <td>0.162</td>\n",
              "      <td>0.731</td>\n",
              "      <td>0.611</td>\n",
              "      <td>0.267</td>\n",
              "    </tr>\n",
              "    <tr>\n",
              "      <th>4</th>\n",
              "      <td>Afghanistan</td>\n",
              "      <td>2012</td>\n",
              "      <td>3.783</td>\n",
              "      <td>7.705</td>\n",
              "      <td>0.521</td>\n",
              "      <td>52.24</td>\n",
              "      <td>0.531</td>\n",
              "      <td>0.236</td>\n",
              "      <td>0.776</td>\n",
              "      <td>0.710</td>\n",
              "      <td>0.268</td>\n",
              "    </tr>\n",
              "  </tbody>\n",
              "</table>\n",
              "</div>\n",
              "      <button class=\"colab-df-convert\" onclick=\"convertToInteractive('df-190f875e-4022-4acc-8cc4-b6da5a8bad00')\"\n",
              "              title=\"Convert this dataframe to an interactive table.\"\n",
              "              style=\"display:none;\">\n",
              "        \n",
              "  <svg xmlns=\"http://www.w3.org/2000/svg\" height=\"24px\"viewBox=\"0 0 24 24\"\n",
              "       width=\"24px\">\n",
              "    <path d=\"M0 0h24v24H0V0z\" fill=\"none\"/>\n",
              "    <path d=\"M18.56 5.44l.94 2.06.94-2.06 2.06-.94-2.06-.94-.94-2.06-.94 2.06-2.06.94zm-11 1L8.5 8.5l.94-2.06 2.06-.94-2.06-.94L8.5 2.5l-.94 2.06-2.06.94zm10 10l.94 2.06.94-2.06 2.06-.94-2.06-.94-.94-2.06-.94 2.06-2.06.94z\"/><path d=\"M17.41 7.96l-1.37-1.37c-.4-.4-.92-.59-1.43-.59-.52 0-1.04.2-1.43.59L10.3 9.45l-7.72 7.72c-.78.78-.78 2.05 0 2.83L4 21.41c.39.39.9.59 1.41.59.51 0 1.02-.2 1.41-.59l7.78-7.78 2.81-2.81c.8-.78.8-2.07 0-2.86zM5.41 20L4 18.59l7.72-7.72 1.47 1.35L5.41 20z\"/>\n",
              "  </svg>\n",
              "      </button>\n",
              "      \n",
              "  <style>\n",
              "    .colab-df-container {\n",
              "      display:flex;\n",
              "      flex-wrap:wrap;\n",
              "      gap: 12px;\n",
              "    }\n",
              "\n",
              "    .colab-df-convert {\n",
              "      background-color: #E8F0FE;\n",
              "      border: none;\n",
              "      border-radius: 50%;\n",
              "      cursor: pointer;\n",
              "      display: none;\n",
              "      fill: #1967D2;\n",
              "      height: 32px;\n",
              "      padding: 0 0 0 0;\n",
              "      width: 32px;\n",
              "    }\n",
              "\n",
              "    .colab-df-convert:hover {\n",
              "      background-color: #E2EBFA;\n",
              "      box-shadow: 0px 1px 2px rgba(60, 64, 67, 0.3), 0px 1px 3px 1px rgba(60, 64, 67, 0.15);\n",
              "      fill: #174EA6;\n",
              "    }\n",
              "\n",
              "    [theme=dark] .colab-df-convert {\n",
              "      background-color: #3B4455;\n",
              "      fill: #D2E3FC;\n",
              "    }\n",
              "\n",
              "    [theme=dark] .colab-df-convert:hover {\n",
              "      background-color: #434B5C;\n",
              "      box-shadow: 0px 1px 3px 1px rgba(0, 0, 0, 0.15);\n",
              "      filter: drop-shadow(0px 1px 2px rgba(0, 0, 0, 0.3));\n",
              "      fill: #FFFFFF;\n",
              "    }\n",
              "  </style>\n",
              "\n",
              "      <script>\n",
              "        const buttonEl =\n",
              "          document.querySelector('#df-190f875e-4022-4acc-8cc4-b6da5a8bad00 button.colab-df-convert');\n",
              "        buttonEl.style.display =\n",
              "          google.colab.kernel.accessAllowed ? 'block' : 'none';\n",
              "\n",
              "        async function convertToInteractive(key) {\n",
              "          const element = document.querySelector('#df-190f875e-4022-4acc-8cc4-b6da5a8bad00');\n",
              "          const dataTable =\n",
              "            await google.colab.kernel.invokeFunction('convertToInteractive',\n",
              "                                                     [key], {});\n",
              "          if (!dataTable) return;\n",
              "\n",
              "          const docLinkHtml = 'Like what you see? Visit the ' +\n",
              "            '<a target=\"_blank\" href=https://colab.research.google.com/notebooks/data_table.ipynb>data table notebook</a>'\n",
              "            + ' to learn more about interactive tables.';\n",
              "          element.innerHTML = '';\n",
              "          dataTable['output_type'] = 'display_data';\n",
              "          await google.colab.output.renderOutput(dataTable, element);\n",
              "          const docLink = document.createElement('div');\n",
              "          docLink.innerHTML = docLinkHtml;\n",
              "          element.appendChild(docLink);\n",
              "        }\n",
              "      </script>\n",
              "    </div>\n",
              "  </div>\n",
              "  "
            ],
            "text/plain": [
              "  Country name  year  ...  Positive affect  Negative affect\n",
              "0  Afghanistan  2008  ...            0.518            0.258\n",
              "1  Afghanistan  2009  ...            0.584            0.237\n",
              "2  Afghanistan  2010  ...            0.618            0.275\n",
              "3  Afghanistan  2011  ...            0.611            0.267\n",
              "4  Afghanistan  2012  ...            0.710            0.268\n",
              "\n",
              "[5 rows x 11 columns]"
            ]
          },
          "metadata": {},
          "execution_count": 3
        }
      ]
    },
    {
      "cell_type": "markdown",
      "source": [
        "##Subsetting Data\n"
      ],
      "metadata": {
        "id": "DEyggRnZ1zLF"
      }
    },
    {
      "cell_type": "markdown",
      "source": [
        "\n",
        "###Dropping Columns\n",
        "\n",
        "The first step in subsetting our data was removing any unwanted columns. Our analysis is intended to identify what factors contribute the most to happiness, however, we aren't as concerned with how this varies between countries or years. For this reason, we will start by deleting columns 'Country Name' and 'Year'. "
      ],
      "metadata": {
        "id": "pLtTjn9t95-9"
      }
    },
    {
      "cell_type": "code",
      "source": [
        "#Dropping columns 'Country Name' and 'Year'\n",
        "happiness_data = happiness_data.drop(['Country name', 'year'], axis=1)\n"
      ],
      "metadata": {
        "id": "zgEueopw7Yst"
      },
      "execution_count": null,
      "outputs": []
    },
    {
      "cell_type": "markdown",
      "source": [
        "Next, we decided to drop the column 'Log GDP per capita'. The reason we chose to drop this column is because it too reflects differences between countries, and our focus is on what makes humans happy unrelated to where they may live. To this end, the variablity among countries may be too large that we wouldn't be able to use it to gain accurate insight into our analysis."
      ],
      "metadata": {
        "id": "N7B2adJG8d3M"
      }
    },
    {
      "cell_type": "code",
      "source": [
        "#Dropping column 'Log GDP per capita'\n",
        "happiness_data = happiness_data.drop(['Log GDP per capita'], axis=1)"
      ],
      "metadata": {
        "id": "EYENHqRf89oz"
      },
      "execution_count": null,
      "outputs": []
    },
    {
      "cell_type": "markdown",
      "source": [
        "Let's take a look at our updated data frame:"
      ],
      "metadata": {
        "id": "UZnd8w138UF-"
      }
    },
    {
      "cell_type": "code",
      "source": [
        "#Updated Data\n",
        "happiness_data.head()"
      ],
      "metadata": {
        "colab": {
          "base_uri": "https://localhost:8080/",
          "height": 267
        },
        "id": "FQG9CiSm8YUf",
        "outputId": "dbce4557-0fe7-4b66-e99b-a88bbb2221bb"
      },
      "execution_count": null,
      "outputs": [
        {
          "output_type": "execute_result",
          "data": {
            "text/html": [
              "\n",
              "  <div id=\"df-ea44646f-c5b1-4033-8d35-cb2249f3ffad\">\n",
              "    <div class=\"colab-df-container\">\n",
              "      <div>\n",
              "<style scoped>\n",
              "    .dataframe tbody tr th:only-of-type {\n",
              "        vertical-align: middle;\n",
              "    }\n",
              "\n",
              "    .dataframe tbody tr th {\n",
              "        vertical-align: top;\n",
              "    }\n",
              "\n",
              "    .dataframe thead th {\n",
              "        text-align: right;\n",
              "    }\n",
              "</style>\n",
              "<table border=\"1\" class=\"dataframe\">\n",
              "  <thead>\n",
              "    <tr style=\"text-align: right;\">\n",
              "      <th></th>\n",
              "      <th>Life Ladder</th>\n",
              "      <th>Social support</th>\n",
              "      <th>Healthy life expectancy at birth</th>\n",
              "      <th>Freedom to make life choices</th>\n",
              "      <th>Generosity</th>\n",
              "      <th>Perceptions of corruption</th>\n",
              "      <th>Positive affect</th>\n",
              "      <th>Negative affect</th>\n",
              "    </tr>\n",
              "  </thead>\n",
              "  <tbody>\n",
              "    <tr>\n",
              "      <th>0</th>\n",
              "      <td>3.724</td>\n",
              "      <td>0.451</td>\n",
              "      <td>50.80</td>\n",
              "      <td>0.718</td>\n",
              "      <td>0.168</td>\n",
              "      <td>0.882</td>\n",
              "      <td>0.518</td>\n",
              "      <td>0.258</td>\n",
              "    </tr>\n",
              "    <tr>\n",
              "      <th>1</th>\n",
              "      <td>4.402</td>\n",
              "      <td>0.552</td>\n",
              "      <td>51.20</td>\n",
              "      <td>0.679</td>\n",
              "      <td>0.190</td>\n",
              "      <td>0.850</td>\n",
              "      <td>0.584</td>\n",
              "      <td>0.237</td>\n",
              "    </tr>\n",
              "    <tr>\n",
              "      <th>2</th>\n",
              "      <td>4.758</td>\n",
              "      <td>0.539</td>\n",
              "      <td>51.60</td>\n",
              "      <td>0.600</td>\n",
              "      <td>0.121</td>\n",
              "      <td>0.707</td>\n",
              "      <td>0.618</td>\n",
              "      <td>0.275</td>\n",
              "    </tr>\n",
              "    <tr>\n",
              "      <th>3</th>\n",
              "      <td>3.832</td>\n",
              "      <td>0.521</td>\n",
              "      <td>51.92</td>\n",
              "      <td>0.496</td>\n",
              "      <td>0.162</td>\n",
              "      <td>0.731</td>\n",
              "      <td>0.611</td>\n",
              "      <td>0.267</td>\n",
              "    </tr>\n",
              "    <tr>\n",
              "      <th>4</th>\n",
              "      <td>3.783</td>\n",
              "      <td>0.521</td>\n",
              "      <td>52.24</td>\n",
              "      <td>0.531</td>\n",
              "      <td>0.236</td>\n",
              "      <td>0.776</td>\n",
              "      <td>0.710</td>\n",
              "      <td>0.268</td>\n",
              "    </tr>\n",
              "  </tbody>\n",
              "</table>\n",
              "</div>\n",
              "      <button class=\"colab-df-convert\" onclick=\"convertToInteractive('df-ea44646f-c5b1-4033-8d35-cb2249f3ffad')\"\n",
              "              title=\"Convert this dataframe to an interactive table.\"\n",
              "              style=\"display:none;\">\n",
              "        \n",
              "  <svg xmlns=\"http://www.w3.org/2000/svg\" height=\"24px\"viewBox=\"0 0 24 24\"\n",
              "       width=\"24px\">\n",
              "    <path d=\"M0 0h24v24H0V0z\" fill=\"none\"/>\n",
              "    <path d=\"M18.56 5.44l.94 2.06.94-2.06 2.06-.94-2.06-.94-.94-2.06-.94 2.06-2.06.94zm-11 1L8.5 8.5l.94-2.06 2.06-.94-2.06-.94L8.5 2.5l-.94 2.06-2.06.94zm10 10l.94 2.06.94-2.06 2.06-.94-2.06-.94-.94-2.06-.94 2.06-2.06.94z\"/><path d=\"M17.41 7.96l-1.37-1.37c-.4-.4-.92-.59-1.43-.59-.52 0-1.04.2-1.43.59L10.3 9.45l-7.72 7.72c-.78.78-.78 2.05 0 2.83L4 21.41c.39.39.9.59 1.41.59.51 0 1.02-.2 1.41-.59l7.78-7.78 2.81-2.81c.8-.78.8-2.07 0-2.86zM5.41 20L4 18.59l7.72-7.72 1.47 1.35L5.41 20z\"/>\n",
              "  </svg>\n",
              "      </button>\n",
              "      \n",
              "  <style>\n",
              "    .colab-df-container {\n",
              "      display:flex;\n",
              "      flex-wrap:wrap;\n",
              "      gap: 12px;\n",
              "    }\n",
              "\n",
              "    .colab-df-convert {\n",
              "      background-color: #E8F0FE;\n",
              "      border: none;\n",
              "      border-radius: 50%;\n",
              "      cursor: pointer;\n",
              "      display: none;\n",
              "      fill: #1967D2;\n",
              "      height: 32px;\n",
              "      padding: 0 0 0 0;\n",
              "      width: 32px;\n",
              "    }\n",
              "\n",
              "    .colab-df-convert:hover {\n",
              "      background-color: #E2EBFA;\n",
              "      box-shadow: 0px 1px 2px rgba(60, 64, 67, 0.3), 0px 1px 3px 1px rgba(60, 64, 67, 0.15);\n",
              "      fill: #174EA6;\n",
              "    }\n",
              "\n",
              "    [theme=dark] .colab-df-convert {\n",
              "      background-color: #3B4455;\n",
              "      fill: #D2E3FC;\n",
              "    }\n",
              "\n",
              "    [theme=dark] .colab-df-convert:hover {\n",
              "      background-color: #434B5C;\n",
              "      box-shadow: 0px 1px 3px 1px rgba(0, 0, 0, 0.15);\n",
              "      filter: drop-shadow(0px 1px 2px rgba(0, 0, 0, 0.3));\n",
              "      fill: #FFFFFF;\n",
              "    }\n",
              "  </style>\n",
              "\n",
              "      <script>\n",
              "        const buttonEl =\n",
              "          document.querySelector('#df-ea44646f-c5b1-4033-8d35-cb2249f3ffad button.colab-df-convert');\n",
              "        buttonEl.style.display =\n",
              "          google.colab.kernel.accessAllowed ? 'block' : 'none';\n",
              "\n",
              "        async function convertToInteractive(key) {\n",
              "          const element = document.querySelector('#df-ea44646f-c5b1-4033-8d35-cb2249f3ffad');\n",
              "          const dataTable =\n",
              "            await google.colab.kernel.invokeFunction('convertToInteractive',\n",
              "                                                     [key], {});\n",
              "          if (!dataTable) return;\n",
              "\n",
              "          const docLinkHtml = 'Like what you see? Visit the ' +\n",
              "            '<a target=\"_blank\" href=https://colab.research.google.com/notebooks/data_table.ipynb>data table notebook</a>'\n",
              "            + ' to learn more about interactive tables.';\n",
              "          element.innerHTML = '';\n",
              "          dataTable['output_type'] = 'display_data';\n",
              "          await google.colab.output.renderOutput(dataTable, element);\n",
              "          const docLink = document.createElement('div');\n",
              "          docLink.innerHTML = docLinkHtml;\n",
              "          element.appendChild(docLink);\n",
              "        }\n",
              "      </script>\n",
              "    </div>\n",
              "  </div>\n",
              "  "
            ],
            "text/plain": [
              "   Life Ladder  Social support  ...  Positive affect  Negative affect\n",
              "0        3.724           0.451  ...            0.518            0.258\n",
              "1        4.402           0.552  ...            0.584            0.237\n",
              "2        4.758           0.539  ...            0.618            0.275\n",
              "3        3.832           0.521  ...            0.611            0.267\n",
              "4        3.783           0.521  ...            0.710            0.268\n",
              "\n",
              "[5 rows x 8 columns]"
            ]
          },
          "metadata": {},
          "execution_count": 6
        }
      ]
    },
    {
      "cell_type": "markdown",
      "source": [
        "###Checking for Null Values\n",
        "\n",
        "The next step in preparing our data was to check for any null values. The purpose of this is segment is twofold. Firstly, we will identify if any variables require removal from the data set from an extreme number of null values. Secondly, we will remove any remaining null values that may remain among our updated data frame. \n",
        "\n",
        "We will start by creating a table to indentify which, if any, columns contain an extreme number of null values.\n",
        "\n"
      ],
      "metadata": {
        "id": "egoI4ZKl9g7i"
      }
    },
    {
      "cell_type": "code",
      "source": [
        "#Creating table of column names and respective null values\n",
        "print(happiness_data.isnull().sum())"
      ],
      "metadata": {
        "colab": {
          "base_uri": "https://localhost:8080/"
        },
        "id": "hWAeaIhh-vn8",
        "outputId": "fd33084b-741d-4fb0-86c8-b30e764d5009"
      },
      "execution_count": null,
      "outputs": [
        {
          "output_type": "stream",
          "name": "stdout",
          "text": [
            "Life Ladder                           0\n",
            "Social support                       13\n",
            "Healthy life expectancy at birth     55\n",
            "Freedom to make life choices         32\n",
            "Generosity                           89\n",
            "Perceptions of corruption           110\n",
            "Positive affect                      22\n",
            "Negative affect                      16\n",
            "dtype: int64\n"
          ]
        }
      ]
    },
    {
      "cell_type": "markdown",
      "source": [
        "The columns with the highest number of null values are 'Generosity' and 'Perceptions of corruption', with 89 and 110 null values, respectively. Relative to the size of our data, we do not see this as a large enough number to warrant removal of the column. \n",
        "\n",
        "Although there aren't enough null values to delete any columns, we still want to remove any null values from the data frame. Let's do that now."
      ],
      "metadata": {
        "id": "y6X-7COT_DjX"
      }
    },
    {
      "cell_type": "code",
      "source": [
        "#Deleting all null values\n",
        "happiness_data = happiness_data.dropna()\n",
        "\n",
        "#Ensuring all null values have been deleted\n"
      ],
      "metadata": {
        "id": "yxEiByqqAs3u"
      },
      "execution_count": null,
      "outputs": []
    },
    {
      "cell_type": "markdown",
      "source": [
        "##Overview\n",
        "\n",
        "Let's review what steps we took to prepare our data for analysis. \n",
        "\n",
        "We started by removing columns 'Country name' and 'year'. These columns weren't necessary relevent to our analysis, since we aren't necessarily concerned with how the factors of happiness have changed over time nor how they vary between country. For similar reasoning, we also removed column 'Log GDP per capita'.\n",
        "\n",
        "Then, we checked to make sure none of our remaining columns had an excessive number of null values. After ensuring the remaining columns were appropriate for our analysis, we removed all remaining null values. \n",
        "\n",
        "The final column names and the first five rows of the final data frame can be seen below.\n",
        "\n"
      ],
      "metadata": {
        "id": "wCASXz7QA0Ki"
      }
    },
    {
      "cell_type": "code",
      "source": [
        "#Summary of prepared data frame\n",
        "happiness_data.head()"
      ],
      "metadata": {
        "colab": {
          "base_uri": "https://localhost:8080/",
          "height": 267
        },
        "id": "D0VK6WCzCTyF",
        "outputId": "1383f04d-d30c-4e22-aa43-ce565b58027a"
      },
      "execution_count": null,
      "outputs": [
        {
          "output_type": "execute_result",
          "data": {
            "text/html": [
              "\n",
              "  <div id=\"df-c3b73cce-5ab5-4ddc-8c96-b6367d262bd1\">\n",
              "    <div class=\"colab-df-container\">\n",
              "      <div>\n",
              "<style scoped>\n",
              "    .dataframe tbody tr th:only-of-type {\n",
              "        vertical-align: middle;\n",
              "    }\n",
              "\n",
              "    .dataframe tbody tr th {\n",
              "        vertical-align: top;\n",
              "    }\n",
              "\n",
              "    .dataframe thead th {\n",
              "        text-align: right;\n",
              "    }\n",
              "</style>\n",
              "<table border=\"1\" class=\"dataframe\">\n",
              "  <thead>\n",
              "    <tr style=\"text-align: right;\">\n",
              "      <th></th>\n",
              "      <th>Life Ladder</th>\n",
              "      <th>Social support</th>\n",
              "      <th>Healthy life expectancy at birth</th>\n",
              "      <th>Freedom to make life choices</th>\n",
              "      <th>Generosity</th>\n",
              "      <th>Perceptions of corruption</th>\n",
              "      <th>Positive affect</th>\n",
              "      <th>Negative affect</th>\n",
              "    </tr>\n",
              "  </thead>\n",
              "  <tbody>\n",
              "    <tr>\n",
              "      <th>0</th>\n",
              "      <td>3.724</td>\n",
              "      <td>0.451</td>\n",
              "      <td>50.80</td>\n",
              "      <td>0.718</td>\n",
              "      <td>0.168</td>\n",
              "      <td>0.882</td>\n",
              "      <td>0.518</td>\n",
              "      <td>0.258</td>\n",
              "    </tr>\n",
              "    <tr>\n",
              "      <th>1</th>\n",
              "      <td>4.402</td>\n",
              "      <td>0.552</td>\n",
              "      <td>51.20</td>\n",
              "      <td>0.679</td>\n",
              "      <td>0.190</td>\n",
              "      <td>0.850</td>\n",
              "      <td>0.584</td>\n",
              "      <td>0.237</td>\n",
              "    </tr>\n",
              "    <tr>\n",
              "      <th>2</th>\n",
              "      <td>4.758</td>\n",
              "      <td>0.539</td>\n",
              "      <td>51.60</td>\n",
              "      <td>0.600</td>\n",
              "      <td>0.121</td>\n",
              "      <td>0.707</td>\n",
              "      <td>0.618</td>\n",
              "      <td>0.275</td>\n",
              "    </tr>\n",
              "    <tr>\n",
              "      <th>3</th>\n",
              "      <td>3.832</td>\n",
              "      <td>0.521</td>\n",
              "      <td>51.92</td>\n",
              "      <td>0.496</td>\n",
              "      <td>0.162</td>\n",
              "      <td>0.731</td>\n",
              "      <td>0.611</td>\n",
              "      <td>0.267</td>\n",
              "    </tr>\n",
              "    <tr>\n",
              "      <th>4</th>\n",
              "      <td>3.783</td>\n",
              "      <td>0.521</td>\n",
              "      <td>52.24</td>\n",
              "      <td>0.531</td>\n",
              "      <td>0.236</td>\n",
              "      <td>0.776</td>\n",
              "      <td>0.710</td>\n",
              "      <td>0.268</td>\n",
              "    </tr>\n",
              "  </tbody>\n",
              "</table>\n",
              "</div>\n",
              "      <button class=\"colab-df-convert\" onclick=\"convertToInteractive('df-c3b73cce-5ab5-4ddc-8c96-b6367d262bd1')\"\n",
              "              title=\"Convert this dataframe to an interactive table.\"\n",
              "              style=\"display:none;\">\n",
              "        \n",
              "  <svg xmlns=\"http://www.w3.org/2000/svg\" height=\"24px\"viewBox=\"0 0 24 24\"\n",
              "       width=\"24px\">\n",
              "    <path d=\"M0 0h24v24H0V0z\" fill=\"none\"/>\n",
              "    <path d=\"M18.56 5.44l.94 2.06.94-2.06 2.06-.94-2.06-.94-.94-2.06-.94 2.06-2.06.94zm-11 1L8.5 8.5l.94-2.06 2.06-.94-2.06-.94L8.5 2.5l-.94 2.06-2.06.94zm10 10l.94 2.06.94-2.06 2.06-.94-2.06-.94-.94-2.06-.94 2.06-2.06.94z\"/><path d=\"M17.41 7.96l-1.37-1.37c-.4-.4-.92-.59-1.43-.59-.52 0-1.04.2-1.43.59L10.3 9.45l-7.72 7.72c-.78.78-.78 2.05 0 2.83L4 21.41c.39.39.9.59 1.41.59.51 0 1.02-.2 1.41-.59l7.78-7.78 2.81-2.81c.8-.78.8-2.07 0-2.86zM5.41 20L4 18.59l7.72-7.72 1.47 1.35L5.41 20z\"/>\n",
              "  </svg>\n",
              "      </button>\n",
              "      \n",
              "  <style>\n",
              "    .colab-df-container {\n",
              "      display:flex;\n",
              "      flex-wrap:wrap;\n",
              "      gap: 12px;\n",
              "    }\n",
              "\n",
              "    .colab-df-convert {\n",
              "      background-color: #E8F0FE;\n",
              "      border: none;\n",
              "      border-radius: 50%;\n",
              "      cursor: pointer;\n",
              "      display: none;\n",
              "      fill: #1967D2;\n",
              "      height: 32px;\n",
              "      padding: 0 0 0 0;\n",
              "      width: 32px;\n",
              "    }\n",
              "\n",
              "    .colab-df-convert:hover {\n",
              "      background-color: #E2EBFA;\n",
              "      box-shadow: 0px 1px 2px rgba(60, 64, 67, 0.3), 0px 1px 3px 1px rgba(60, 64, 67, 0.15);\n",
              "      fill: #174EA6;\n",
              "    }\n",
              "\n",
              "    [theme=dark] .colab-df-convert {\n",
              "      background-color: #3B4455;\n",
              "      fill: #D2E3FC;\n",
              "    }\n",
              "\n",
              "    [theme=dark] .colab-df-convert:hover {\n",
              "      background-color: #434B5C;\n",
              "      box-shadow: 0px 1px 3px 1px rgba(0, 0, 0, 0.15);\n",
              "      filter: drop-shadow(0px 1px 2px rgba(0, 0, 0, 0.3));\n",
              "      fill: #FFFFFF;\n",
              "    }\n",
              "  </style>\n",
              "\n",
              "      <script>\n",
              "        const buttonEl =\n",
              "          document.querySelector('#df-c3b73cce-5ab5-4ddc-8c96-b6367d262bd1 button.colab-df-convert');\n",
              "        buttonEl.style.display =\n",
              "          google.colab.kernel.accessAllowed ? 'block' : 'none';\n",
              "\n",
              "        async function convertToInteractive(key) {\n",
              "          const element = document.querySelector('#df-c3b73cce-5ab5-4ddc-8c96-b6367d262bd1');\n",
              "          const dataTable =\n",
              "            await google.colab.kernel.invokeFunction('convertToInteractive',\n",
              "                                                     [key], {});\n",
              "          if (!dataTable) return;\n",
              "\n",
              "          const docLinkHtml = 'Like what you see? Visit the ' +\n",
              "            '<a target=\"_blank\" href=https://colab.research.google.com/notebooks/data_table.ipynb>data table notebook</a>'\n",
              "            + ' to learn more about interactive tables.';\n",
              "          element.innerHTML = '';\n",
              "          dataTable['output_type'] = 'display_data';\n",
              "          await google.colab.output.renderOutput(dataTable, element);\n",
              "          const docLink = document.createElement('div');\n",
              "          docLink.innerHTML = docLinkHtml;\n",
              "          element.appendChild(docLink);\n",
              "        }\n",
              "      </script>\n",
              "    </div>\n",
              "  </div>\n",
              "  "
            ],
            "text/plain": [
              "   Life Ladder  Social support  ...  Positive affect  Negative affect\n",
              "0        3.724           0.451  ...            0.518            0.258\n",
              "1        4.402           0.552  ...            0.584            0.237\n",
              "2        4.758           0.539  ...            0.618            0.275\n",
              "3        3.832           0.521  ...            0.611            0.267\n",
              "4        3.783           0.521  ...            0.710            0.268\n",
              "\n",
              "[5 rows x 8 columns]"
            ]
          },
          "metadata": {},
          "execution_count": 9
        }
      ]
    },
    {
      "cell_type": "markdown",
      "source": [
        "# Part IV. Modeling and Evaluating"
      ],
      "metadata": {
        "id": "OnGFxtf03xxn"
      }
    },
    {
      "cell_type": "markdown",
      "source": [
        "## EDA\n"
      ],
      "metadata": {
        "id": "r29eTEM233iB"
      }
    },
    {
      "cell_type": "markdown",
      "source": [
        "###Distributions\n",
        "\n",
        "The first step in our EDA is to view the distributions for each of the columns in our data frame. "
      ],
      "metadata": {
        "id": "-pUDlReuEfDx"
      }
    },
    {
      "cell_type": "code",
      "source": [
        "#Viewing Distributions\n",
        "import numpy as np\n",
        "\n",
        "happiness_data.agg({'Life Ladder':[np.mean, np.median, np.max, np.min],\n",
        "                  'Social support':[np.mean, np.median, np.max, np.min],\n",
        "                  'Healthy life expectancy at birth':[np.mean, np.median, np.max, np.min],\n",
        "                  'Freedom to make life choices':[np.mean, np.median, np.max, np.min],\n",
        "                  'Generosity':[np.mean, np.median, np.max, np.min],\n",
        "                  'Perceptions of corruption':[np.mean, np.median, np.max, np.min],\n",
        "                  'Positive affect':[np.mean, np.median, np.max, np.min],\n",
        "                  'Negative affect':[np.mean, np.median, np.max, np.min],})"
      ],
      "metadata": {
        "colab": {
          "base_uri": "https://localhost:8080/",
          "height": 253
        },
        "id": "eqe6BgkrEtfW",
        "outputId": "7eac35bd-04be-4f8f-dc2a-055d4577b71a"
      },
      "execution_count": null,
      "outputs": [
        {
          "output_type": "execute_result",
          "data": {
            "text/html": [
              "\n",
              "  <div id=\"df-02f35287-fc04-4cd4-9e6b-3284723741d0\">\n",
              "    <div class=\"colab-df-container\">\n",
              "      <div>\n",
              "<style scoped>\n",
              "    .dataframe tbody tr th:only-of-type {\n",
              "        vertical-align: middle;\n",
              "    }\n",
              "\n",
              "    .dataframe tbody tr th {\n",
              "        vertical-align: top;\n",
              "    }\n",
              "\n",
              "    .dataframe thead th {\n",
              "        text-align: right;\n",
              "    }\n",
              "</style>\n",
              "<table border=\"1\" class=\"dataframe\">\n",
              "  <thead>\n",
              "    <tr style=\"text-align: right;\">\n",
              "      <th></th>\n",
              "      <th>Life Ladder</th>\n",
              "      <th>Social support</th>\n",
              "      <th>Healthy life expectancy at birth</th>\n",
              "      <th>Freedom to make life choices</th>\n",
              "      <th>Generosity</th>\n",
              "      <th>Perceptions of corruption</th>\n",
              "      <th>Positive affect</th>\n",
              "      <th>Negative affect</th>\n",
              "    </tr>\n",
              "  </thead>\n",
              "  <tbody>\n",
              "    <tr>\n",
              "      <th>mean</th>\n",
              "      <td>5.44668</td>\n",
              "      <td>0.810321</td>\n",
              "      <td>63.225465</td>\n",
              "      <td>0.739442</td>\n",
              "      <td>-0.000638</td>\n",
              "      <td>0.750996</td>\n",
              "      <td>0.70955</td>\n",
              "      <td>0.269446</td>\n",
              "    </tr>\n",
              "    <tr>\n",
              "      <th>median</th>\n",
              "      <td>5.36400</td>\n",
              "      <td>0.835000</td>\n",
              "      <td>65.100000</td>\n",
              "      <td>0.757500</td>\n",
              "      <td>-0.025500</td>\n",
              "      <td>0.806000</td>\n",
              "      <td>0.72200</td>\n",
              "      <td>0.259000</td>\n",
              "    </tr>\n",
              "    <tr>\n",
              "      <th>amax</th>\n",
              "      <td>7.97100</td>\n",
              "      <td>0.987000</td>\n",
              "      <td>77.100000</td>\n",
              "      <td>0.985000</td>\n",
              "      <td>0.689000</td>\n",
              "      <td>0.983000</td>\n",
              "      <td>0.94400</td>\n",
              "      <td>0.705000</td>\n",
              "    </tr>\n",
              "    <tr>\n",
              "      <th>amin</th>\n",
              "      <td>2.37500</td>\n",
              "      <td>0.290000</td>\n",
              "      <td>32.300000</td>\n",
              "      <td>0.258000</td>\n",
              "      <td>-0.335000</td>\n",
              "      <td>0.035000</td>\n",
              "      <td>0.32200</td>\n",
              "      <td>0.094000</td>\n",
              "    </tr>\n",
              "  </tbody>\n",
              "</table>\n",
              "</div>\n",
              "      <button class=\"colab-df-convert\" onclick=\"convertToInteractive('df-02f35287-fc04-4cd4-9e6b-3284723741d0')\"\n",
              "              title=\"Convert this dataframe to an interactive table.\"\n",
              "              style=\"display:none;\">\n",
              "        \n",
              "  <svg xmlns=\"http://www.w3.org/2000/svg\" height=\"24px\"viewBox=\"0 0 24 24\"\n",
              "       width=\"24px\">\n",
              "    <path d=\"M0 0h24v24H0V0z\" fill=\"none\"/>\n",
              "    <path d=\"M18.56 5.44l.94 2.06.94-2.06 2.06-.94-2.06-.94-.94-2.06-.94 2.06-2.06.94zm-11 1L8.5 8.5l.94-2.06 2.06-.94-2.06-.94L8.5 2.5l-.94 2.06-2.06.94zm10 10l.94 2.06.94-2.06 2.06-.94-2.06-.94-.94-2.06-.94 2.06-2.06.94z\"/><path d=\"M17.41 7.96l-1.37-1.37c-.4-.4-.92-.59-1.43-.59-.52 0-1.04.2-1.43.59L10.3 9.45l-7.72 7.72c-.78.78-.78 2.05 0 2.83L4 21.41c.39.39.9.59 1.41.59.51 0 1.02-.2 1.41-.59l7.78-7.78 2.81-2.81c.8-.78.8-2.07 0-2.86zM5.41 20L4 18.59l7.72-7.72 1.47 1.35L5.41 20z\"/>\n",
              "  </svg>\n",
              "      </button>\n",
              "      \n",
              "  <style>\n",
              "    .colab-df-container {\n",
              "      display:flex;\n",
              "      flex-wrap:wrap;\n",
              "      gap: 12px;\n",
              "    }\n",
              "\n",
              "    .colab-df-convert {\n",
              "      background-color: #E8F0FE;\n",
              "      border: none;\n",
              "      border-radius: 50%;\n",
              "      cursor: pointer;\n",
              "      display: none;\n",
              "      fill: #1967D2;\n",
              "      height: 32px;\n",
              "      padding: 0 0 0 0;\n",
              "      width: 32px;\n",
              "    }\n",
              "\n",
              "    .colab-df-convert:hover {\n",
              "      background-color: #E2EBFA;\n",
              "      box-shadow: 0px 1px 2px rgba(60, 64, 67, 0.3), 0px 1px 3px 1px rgba(60, 64, 67, 0.15);\n",
              "      fill: #174EA6;\n",
              "    }\n",
              "\n",
              "    [theme=dark] .colab-df-convert {\n",
              "      background-color: #3B4455;\n",
              "      fill: #D2E3FC;\n",
              "    }\n",
              "\n",
              "    [theme=dark] .colab-df-convert:hover {\n",
              "      background-color: #434B5C;\n",
              "      box-shadow: 0px 1px 3px 1px rgba(0, 0, 0, 0.15);\n",
              "      filter: drop-shadow(0px 1px 2px rgba(0, 0, 0, 0.3));\n",
              "      fill: #FFFFFF;\n",
              "    }\n",
              "  </style>\n",
              "\n",
              "      <script>\n",
              "        const buttonEl =\n",
              "          document.querySelector('#df-02f35287-fc04-4cd4-9e6b-3284723741d0 button.colab-df-convert');\n",
              "        buttonEl.style.display =\n",
              "          google.colab.kernel.accessAllowed ? 'block' : 'none';\n",
              "\n",
              "        async function convertToInteractive(key) {\n",
              "          const element = document.querySelector('#df-02f35287-fc04-4cd4-9e6b-3284723741d0');\n",
              "          const dataTable =\n",
              "            await google.colab.kernel.invokeFunction('convertToInteractive',\n",
              "                                                     [key], {});\n",
              "          if (!dataTable) return;\n",
              "\n",
              "          const docLinkHtml = 'Like what you see? Visit the ' +\n",
              "            '<a target=\"_blank\" href=https://colab.research.google.com/notebooks/data_table.ipynb>data table notebook</a>'\n",
              "            + ' to learn more about interactive tables.';\n",
              "          element.innerHTML = '';\n",
              "          dataTable['output_type'] = 'display_data';\n",
              "          await google.colab.output.renderOutput(dataTable, element);\n",
              "          const docLink = document.createElement('div');\n",
              "          docLink.innerHTML = docLinkHtml;\n",
              "          element.appendChild(docLink);\n",
              "        }\n",
              "      </script>\n",
              "    </div>\n",
              "  </div>\n",
              "  "
            ],
            "text/plain": [
              "        Life Ladder  Social support  ...  Positive affect  Negative affect\n",
              "mean        5.44668        0.810321  ...          0.70955         0.269446\n",
              "median      5.36400        0.835000  ...          0.72200         0.259000\n",
              "amax        7.97100        0.987000  ...          0.94400         0.705000\n",
              "amin        2.37500        0.290000  ...          0.32200         0.094000\n",
              "\n",
              "[4 rows x 8 columns]"
            ]
          },
          "metadata": {},
          "execution_count": 32
        }
      ]
    },
    {
      "cell_type": "markdown",
      "source": [
        "Interestingly, the mean life ladder score is 5.44668, which upon intial reaction is lower than expected. It's also interesting to note that the mean of 'Generosity' was a negative value, meaning donating to charity likely did not have a meaningful impact on happiness. We can take a more in depth look at the distribution of these variables by creating boxplots. "
      ],
      "metadata": {
        "id": "6zO2gdGNFd9z"
      }
    },
    {
      "cell_type": "markdown",
      "source": [
        "###Boxplots\n",
        "\n",
        "The first step in our EDA was to learn more about each of the variables in our dataset. To do this, we created boxplots of each variable. \n",
        "\n",
        "Our first boxplot contains the variable 'Life Ladder'. As mentioned in the description table of our variables, 'Life Ladder' is a numeric value on a scale of 0-10 describing survey respondents overall life happiness. \n"
      ],
      "metadata": {
        "id": "Izg9dOpb1zi_"
      }
    },
    {
      "cell_type": "code",
      "source": [
        "#Boxplot of 'Life Ladder'\n",
        "fig, ax = plt.subplots(figsize=(8.7,6.27))\n",
        "mean_shape = dict(markerfacecolor='green', markeredgecolor='green')\n",
        "happiness_data['Life Ladder'].plot(kind='box', showmeans=True);"
      ],
      "metadata": {
        "colab": {
          "base_uri": "https://localhost:8080/",
          "height": 391
        },
        "id": "KMrWgaTwEGEN",
        "outputId": "1566e91b-3cae-47b6-bd33-5e2cbb79becd"
      },
      "execution_count": null,
      "outputs": [
        {
          "output_type": "display_data",
          "data": {
            "image/png": "[encoded data removed]",
            "text/plain": [
              "<Figure size 626.4x451.44 with 1 Axes>"
            ]
          },
          "metadata": {}
        }
      ]
    },
    {
      "cell_type": "markdown",
      "source": [
        "Life ladder interquatrile values range from roughly 2.5 to 8. The median and mean of values is just below 5.5. We should also note that there doesn't appear to be extreme outliers. \n",
        "\n",
        "Next we will look at 'Social support'"
      ],
      "metadata": {
        "id": "xxuCwAYrI61A"
      }
    },
    {
      "cell_type": "code",
      "source": [
        "#Boxplot of 'Social support'\n",
        "fig, ax = plt.subplots(figsize=(8.7,6.27))\n",
        "mean_shape = dict(markerfacecolor='green', markeredgecolor='green')\n",
        "happiness_data['Social support'].plot(kind='box', showmeans=True);"
      ],
      "metadata": {
        "colab": {
          "base_uri": "https://localhost:8080/",
          "height": 391
        },
        "id": "ReqMAnhOJPA2",
        "outputId": "7f793af0-539f-4280-fa1f-40ab4bc4bf5e"
      },
      "execution_count": null,
      "outputs": [
        {
          "output_type": "display_data",
          "data": {
            "image/png": "[encoded data removed]",
            "text/plain": [
              "<Figure size 626.4x451.44 with 1 Axes>"
            ]
          },
          "metadata": {}
        }
      ]
    },
    {
      "cell_type": "markdown",
      "source": [
        "The 'Social support' variable is a binary survey answer (either 0 or 1). As reflected by a mean and median value of above 0.8, we note that the majority of survey respondents said they do in fact of someone in their life to count on when they need them. This is not too much of a surprise, and we expect this variable to be quite meaningful to our later prediction of overall happiness.\n",
        "\n",
        "Next, let's look at a boxplot of the 'Healthy life expectancy at birth' variable."
      ],
      "metadata": {
        "id": "sq1eMqxjKitD"
      }
    },
    {
      "cell_type": "code",
      "source": [
        "#Boxplot of 'Healthy life expectancy at birth'\n",
        "fig, ax = plt.subplots(figsize=(8.7,6.27))\n",
        "mean_shape = dict(markerfacecolor='green', markeredgecolor='green')\n",
        "happiness_data['Healthy life expectancy at birth'].plot(kind='box', showmeans=True);"
      ],
      "metadata": {
        "colab": {
          "base_uri": "https://localhost:8080/",
          "height": 391
        },
        "id": "c_1fGfj4LOVM",
        "outputId": "d0d2051e-1944-48a2-8844-e8c711108b02"
      },
      "execution_count": null,
      "outputs": [
        {
          "output_type": "display_data",
          "data": {
            "image/png": "[encoded data removed]",
            "text/plain": [
              "<Figure size 626.4x451.44 with 1 Axes>"
            ]
          },
          "metadata": {}
        }
      ]
    },
    {
      "cell_type": "markdown",
      "source": [
        "As seen above, interquartile values in this variable range from roughly 41 to 77. The median and mean are both roughly 65, with the median being just larger than the mean.\n",
        "\n",
        "Next, let's look at a boxplot of 'Freedom to make life choices'"
      ],
      "metadata": {
        "id": "yuAxa6XfLpfe"
      }
    },
    {
      "cell_type": "code",
      "source": [
        "#Boxplot of 'Freedom to make life choices'\n",
        "fig, ax = plt.subplots(figsize=(8.7,6.27))\n",
        "mean_shape = dict(markerfacecolor='green', markeredgecolor='green')\n",
        "happiness_data['Freedom to make life choices'].plot(kind='box', showmeans=True);"
      ],
      "metadata": {
        "colab": {
          "base_uri": "https://localhost:8080/",
          "height": 391
        },
        "id": "jI9c1PLuL7J5",
        "outputId": "90ead45b-d411-4f67-de67-6fc12b065b26"
      },
      "execution_count": null,
      "outputs": [
        {
          "output_type": "display_data",
          "data": {
            "image/png": "[encoded data removed]",
            "text/plain": [
              "<Figure size 626.4x451.44 with 1 Axes>"
            ]
          },
          "metadata": {}
        }
      ]
    },
    {
      "cell_type": "markdown",
      "source": [
        "This variable was another binary survey response, so values range from 0 to 1. The interquartile range for this variable is roughly .33 to .99. The mean is roughly .73 with the median being slightly higher. This is the distribution we had hoped for, in that it reflects the majority of people answered that they are satisified with their freedom to make life choices. We also expect this variable to be meaningful in predicting overal happiness levels. \n",
        "\n",
        "Next, we will look at the distribution of 'Generosity' "
      ],
      "metadata": {
        "id": "e0CGoWdhSt5i"
      }
    },
    {
      "cell_type": "code",
      "source": [
        "#Boxplot of 'Generosity'\n",
        "fig, ax = plt.subplots(figsize=(8.7,6.27))\n",
        "mean_shape = dict(markerfacecolor='green', markeredgecolor='green')\n",
        "happiness_data['Generosity'].plot(kind='box', showmeans=True);"
      ],
      "metadata": {
        "colab": {
          "base_uri": "https://localhost:8080/",
          "height": 391
        },
        "id": "CcHeKHwzT0am",
        "outputId": "4b4254c6-13e9-4402-c8eb-ef1b4da550be"
      },
      "execution_count": null,
      "outputs": [
        {
          "output_type": "display_data",
          "data": {
            "image/png": "[encoded data removed]",
            "text/plain": [
              "<Figure size 626.4x451.44 with 1 Axes>"
            ]
          },
          "metadata": {}
        }
      ]
    },
    {
      "cell_type": "markdown",
      "source": [
        "Interestingly, the mean value of the 'Generosity' variable is right at 0. This reflects the idea that donating to charity had no real effect on happiness levels. This is useful to note before we create our model to predict happiness levels. We will most likely not include this variable in our model. \n",
        "\n",
        "Next, we will look at the distribution of 'Perceptions of corruption' variable"
      ],
      "metadata": {
        "id": "KOXPT_UiU1FG"
      }
    },
    {
      "cell_type": "code",
      "source": [
        "#Boxplot of 'Perceptions of corruption'\n",
        "fig, ax = plt.subplots(figsize=(8.7,6.27))\n",
        "mean_shape = dict(markerfacecolor='green', markeredgecolor='green')\n",
        "happiness_data['Perceptions of corruption'].plot(kind='box', showmeans=True);"
      ],
      "metadata": {
        "colab": {
          "base_uri": "https://localhost:8080/",
          "height": 391
        },
        "id": "q0xY5XRmVVNi",
        "outputId": "940141f2-0b4b-48fe-a023-94012adfddc1"
      },
      "execution_count": null,
      "outputs": [
        {
          "output_type": "display_data",
          "data": {
            "image/png": "[encoded data removed]",
            "text/plain": [
              "<Figure size 626.4x451.44 with 1 Axes>"
            ]
          },
          "metadata": {}
        }
      ]
    },
    {
      "cell_type": "markdown",
      "source": [
        "This variable also contains binary survey responses (0 or 1). As seen above, this variable appears to contain the most outliers among all our variables. We will certainly keep that in the back of our minds when the time comes to design our machine learning model. The median value for this variable is roughly .8, with a slightly lower mean. \n",
        "\n",
        "The next distribution we will take a look at is 'Positive affect'"
      ],
      "metadata": {
        "id": "rmhoakMzVoTz"
      }
    },
    {
      "cell_type": "code",
      "source": [
        "#Boxplot of 'Positive affect'\n",
        "fig, ax = plt.subplots(figsize=(8.7,6.27))\n",
        "mean_shape = dict(markerfacecolor='green', markeredgecolor='green')\n",
        "happiness_data['Positive affect'].plot(kind='box', showmeans=True);"
      ],
      "metadata": {
        "colab": {
          "base_uri": "https://localhost:8080/",
          "height": 391
        },
        "id": "n1buUj5ZW5La",
        "outputId": "c8a8d9e3-e072-4745-c80c-817aa251fe2e"
      },
      "execution_count": null,
      "outputs": [
        {
          "output_type": "display_data",
          "data": {
            "image/png": "[encoded data removed]",
            "text/plain": [
              "<Figure size 626.4x451.44 with 1 Axes>"
            ]
          },
          "metadata": {}
        }
      ]
    },
    {
      "cell_type": "markdown",
      "source": [
        "Positive affect is another variable in our data set where survey participants responded with either a 0 or 1. The meean and median are both around .72 and the interquartile range stretches from roughly .36 to .97. With mean and median being well above .5, it's safe to say this variable most likely is a strong contributor to happiness levels.\n",
        "\n",
        "The last variable in our dataset we will make a boxplot for is 'Negative affect'"
      ],
      "metadata": {
        "id": "rkMctKMkX9Z8"
      }
    },
    {
      "cell_type": "code",
      "source": [
        "#Boxplot of 'Negative affect'\n",
        "fig, ax = plt.subplots(figsize=(8.7,6.27))\n",
        "mean_shape = dict(markerfacecolor='green', markeredgecolor='green')\n",
        "happiness_data['Negative affect'].plot(kind='box', showmeans=True);"
      ],
      "metadata": {
        "colab": {
          "base_uri": "https://localhost:8080/",
          "height": 391
        },
        "id": "D78vTodEZhDS",
        "outputId": "e3a835e0-7c39-4021-c4eb-465192e112a3"
      },
      "execution_count": null,
      "outputs": [
        {
          "output_type": "display_data",
          "data": {
            "image/png": "[encoded data removed]",
            "text/plain": [
              "<Figure size 626.4x451.44 with 1 Axes>"
            ]
          },
          "metadata": {}
        }
      ]
    },
    {
      "cell_type": "markdown",
      "source": [
        "Negative affect, like positive affect, also had survey respondents answer with a 0 or 1. Unlike positive affect, the mean and median of negative affect are below .5. More specifically, the median and mode are roughly .27. From this, we can conclude that negative affect probably won't impact happiness levels as much as positive affect. \n",
        "\n"
      ],
      "metadata": {
        "id": "qhvQLnTvaIFQ"
      }
    },
    {
      "cell_type": "markdown",
      "source": [
        "###Correlation\n",
        "\n",
        "To gain a better sense of what variables in our data set may be correlated to each other, and specifically to life ladder, we constructed a correlation heatmap."
      ],
      "metadata": {
        "id": "D41TDuTmb_VV"
      }
    },
    {
      "cell_type": "code",
      "source": [
        "#get correlations of each features in dataset\n",
        "corrmat = happiness_data.corr()\n",
        "top_corr_features = corrmat.index\n",
        "plt.figure(figsize=(12,7))\n",
        "#plot heat map\n",
        "g=sns.heatmap(happiness_data[top_corr_features].corr(),annot=True).set_title('Correlation HeatMap for Happiness');\n"
      ],
      "metadata": {
        "colab": {
          "base_uri": "https://localhost:8080/",
          "height": 612
        },
        "id": "-MEje3OneySa",
        "outputId": "dcfc45a8-0429-4084-83fc-c99918470960"
      },
      "execution_count": null,
      "outputs": [
        {
          "output_type": "display_data",
          "data": {
            "image/png": "[encoded data removed]",
            "text/plain": [
              "<Figure size 864x504 with 2 Axes>"
            ]
          },
          "metadata": {}
        }
      ]
    },
    {
      "cell_type": "markdown",
      "source": [
        "The correlation heatmap from above provides information about the relationships between all the variables we have been looking at thus far. Our main focus is the correlation between Life Ladder, overall happiness on a sale of 0-10, and the other independent variables.\n",
        "From this heatmap, the most strongly correlated variable with Life Ladder is healthy life expectancy at birth (0.75). This is interesting because there are many more specific variables that are encompassed in life expectancy, that could be driving this relationship. Things like salary, mental health, hometown, and so on. Nonetheless, the better the life expectancy for a person, the more happy they are likely to be.\n",
        "\n",
        "The second most correlated variable is social support (0.71). This implies that the most important aspect to a person's happiness is having a healthy social circle to rely on.\n",
        "Freedom to make choices (0.53) and positive affect (0.53) are also both well correlated with life happiness. This makes sense because people who have the freedom to make their own choices as opposed to being told what to do, should mostly be more happy. For positive affect, this is very reasonable because if somebody is happy one day, it is well expected for that to carry over the next day.\n",
        "Lastly, perceptions of corruption throughout one's government is negatively correlate with a person's happines. This relationship makes sense because governments that are corrupt, or suspected of being corrupt, may not necessarily treat their citizens as well as they should, meaning that the citizens' happiness would be lower than those in places where the government is not as corrupt."
      ],
      "metadata": {
        "id": "-nfLRBJke7xZ"
      }
    },
    {
      "cell_type": "markdown",
      "source": [
        "###Scatterplots\n",
        "\n",
        "The next step in our EDA was making scatterplots. Specifically, we wanted to take a look at the variables that were identified above to have high correlations to 'Life ladder'. We constructed scatterplots of the relationship between the following variables:\n",
        "\n",
        "- 'Life Ladder' and 'Social Support'\n",
        "- 'Life Ladder' and 'Healthy Life Expectancy at birth'\n",
        "- 'Life Ladder' and 'Freedom to make life choices'\n",
        "- 'Life Ladder' and 'Positive Affect'\n",
        "- 'Life Ladder' and 'Perceptions of Corruption'\n",
        "\n",
        "The first scatterplot we will look at is between 'Life Ladder' and 'Social Support'\n"
      ],
      "metadata": {
        "id": "7aiKjLWJfUnU"
      }
    },
    {
      "cell_type": "markdown",
      "source": [
        "##Machine Learning Model\n"
      ],
      "metadata": {
        "id": "wMEwPX_Mfkkd"
      }
    }
  ]
}